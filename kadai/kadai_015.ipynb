{
  "nbformat": 4,
  "nbformat_minor": 0,
  "metadata": {
    "colab": {
      "provenance": []
    },
    "kernelspec": {
      "name": "python3",
      "display_name": "Python 3"
    },
    "language_info": {
      "name": "python"
    }
  },
  "cells": [
    {
      "cell_type": "code",
      "execution_count": 48,
      "metadata": {
        "colab": {
          "base_uri": "https://localhost:8080/"
        },
        "id": "2C8McwAtw9ql",
        "outputId": "6bc8dead-8731-4234-db21-db1c15fb8b7a"
      },
      "outputs": [
        {
          "output_type": "stream",
          "name": "stdout",
          "text": [
            "山本 20\n",
            "加藤 56\n"
          ]
        }
      ],
      "source": [
        "class Human:\n",
        "  def __init__(self):\n",
        "    self.name = \"\"\n",
        "    self.age = \"\"\n",
        "\n",
        "  def promtinfo(self, name, age):\n",
        "    self.name = name\n",
        "    self.name = age\n",
        "\n",
        "  def printinfo(self, name, age):\n",
        "    print(name, age)\n",
        "\n",
        "yamamoto = Human()\n",
        "yamamoto.printinfo(\"山本\", 20)\n",
        "\n",
        "kato = Human()\n",
        "kato.printinfo(\"加藤\", 56)\n"
      ]
    },
    {
      "cell_type": "markdown",
      "source": [],
      "metadata": {
        "id": "gJfOoNYnxQba"
      }
    },
    {
      "cell_type": "markdown",
      "source": [],
      "metadata": {
        "id": "yeR0QcGJzmOi"
      }
    }
  ]
}