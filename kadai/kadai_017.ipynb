{
  "nbformat": 4,
  "nbformat_minor": 0,
  "metadata": {
    "colab": {
      "provenance": []
    },
    "kernelspec": {
      "name": "python3",
      "display_name": "Python 3"
    },
    "language_info": {
      "name": "python"
    }
  },
  "cells": [
    {
      "cell_type": "code",
      "execution_count": 91,
      "metadata": {
        "colab": {
          "base_uri": "https://localhost:8080/"
        },
        "id": "GNE8ZlxCYh46",
        "outputId": "25ca7c2c-93eb-4e54-d9c6-b66e5c781397"
      },
      "outputs": [
        {
          "output_type": "stream",
          "name": "stdout",
          "text": [
            "加藤さんは大人です。\n",
            "伊藤さんは大人ではありません。\n"
          ]
        }
      ],
      "source": [
        "class Human:\n",
        "  def __init__(self, name, age):\n",
        "    self.name = name\n",
        "    self.age = age\n",
        "\n",
        "  def check_adult(self):\n",
        "      if self.age >= 20:\n",
        "        print(f\"{self.name}さんは大人です。\")\n",
        "      else:\n",
        "        print(f\"{self.name}さんは大人ではありません。\")\n",
        "\n",
        "human_1 = Human(\"加藤\", 25)\n",
        "human_2 = Human(\"伊藤\", 18)\n",
        "\n",
        "humans = [human_1, human_2]\n",
        "\n",
        "for human in humans:\n",
        "  human.check_adult()"
      ]
    }
  ]
}