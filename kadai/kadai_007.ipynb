{
  "nbformat": 4,
  "nbformat_minor": 0,
  "metadata": {
    "colab": {
      "provenance": []
    },
    "kernelspec": {
      "name": "python3",
      "display_name": "Python 3"
    },
    "language_info": {
      "name": "python"
    }
  },
  "cells": [
    {
      "cell_type": "code",
      "execution_count": 2,
      "metadata": {
        "colab": {
          "base_uri": "https://localhost:8080/"
        },
        "id": "fNnkNsrhFgRy",
        "outputId": "fe476360-c10b-4824-d0cf-6ccc4050c8db"
      },
      "outputs": [
        {
          "output_type": "stream",
          "name": "stdout",
          "text": [
            "水曜日は晴れです\n"
          ]
        }
      ],
      "source": [
        "#リスト\n",
        "array = [\"月曜日は晴れです\", \"火曜日は雨です\", \"水曜日は晴れです\", \"木曜日は晴れです\", \"金曜日は曇りです\", \"土曜日は曇りのち雨です\", \"日曜日は雷雨です\"]\n",
        "print(array[2])"
      ]
    },
    {
      "cell_type": "code",
      "source": [
        "#ディクショナリ\n",
        "dictionary = {\"mon\":\"晴れ\", \"tue\":\"雨\", \"wed\":\"晴れ\", \"thu\":\"晴れ\", \"fri\":\"曇り\", \"sat\":\"曇りのち雨\", \"sun\":\"雷雨\"}\n",
        "print(dictionary[\"wed\"])\n",
        "print(\"水曜日は\" + dictionary[\"wed\"] + \"です\")"
      ],
      "metadata": {
        "colab": {
          "base_uri": "https://localhost:8080/"
        },
        "id": "JJPCCvHwGqwE",
        "outputId": "b35a58eb-d58b-41d8-858a-2b628bbe9855"
      },
      "execution_count": 12,
      "outputs": [
        {
          "output_type": "stream",
          "name": "stdout",
          "text": [
            "晴れ\n",
            "水曜日は晴れです\n"
          ]
        }
      ]
    }
  ]
}