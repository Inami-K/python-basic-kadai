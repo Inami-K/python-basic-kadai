{
  "nbformat": 4,
  "nbformat_minor": 0,
  "metadata": {
    "colab": {
      "provenance": []
    },
    "kernelspec": {
      "name": "python3",
      "display_name": "Python 3"
    },
    "language_info": {
      "name": "python"
    }
  },
  "cells": [
    {
      "cell_type": "code",
      "execution_count": 17,
      "metadata": {
        "colab": {
          "base_uri": "https://localhost:8080/"
        },
        "id": "SWtWgSDbspO6",
        "outputId": "af012bb1-3a75-4f4f-93eb-bc084c7c1a50"
      },
      "outputs": [
        {
          "output_type": "stream",
          "name": "stdout",
          "text": [
            "金額は1100.0円(税込み)です。\n"
          ]
        }
      ],
      "source": [
        "def add_tax(price, tax):\n",
        "  return price + (price * tax/100)\n",
        "\n",
        "#add_tax(商品の金額, 消費税%)を入力\n",
        "print(f\"金額は{add_tax(1000, 10)}円(税込み)です。\")\n"
      ]
    }
  ]
}