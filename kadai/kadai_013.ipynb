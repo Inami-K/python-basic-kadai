{
  "nbformat": 4,
  "nbformat_minor": 0,
  "metadata": {
    "colab": {
      "provenance": []
    },
    "kernelspec": {
      "name": "python3",
      "display_name": "Python 3"
    },
    "language_info": {
      "name": "python"
    }
  },
  "cells": [
    {
      "cell_type": "code",
      "execution_count": 9,
      "metadata": {
        "colab": {
          "base_uri": "https://localhost:8080/"
        },
        "id": "SWtWgSDbspO6",
        "outputId": "e717526c-7c16-4a61-ac2c-849b61d1ea1d"
      },
      "outputs": [
        {
          "output_type": "stream",
          "name": "stdout",
          "text": [
            "金額は1100.0円(税込み)です。\n"
          ]
        }
      ],
      "source": [
        "def add_tax(price):\n",
        "  return price * 1.1\n",
        "\n",
        "print(f\"金額は{add_tax(1000)}円(税込み)です。\")\n"
      ]
    }
  ]
}