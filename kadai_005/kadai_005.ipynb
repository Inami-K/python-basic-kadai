{
  "nbformat": 4,
  "nbformat_minor": 0,
  "metadata": {
    "colab": {
      "provenance": []
    },
    "kernelspec": {
      "name": "python3",
      "display_name": "Python 3"
    },
    "language_info": {
      "name": "python"
    }
  },
  "cells": [
    {
      "cell_type": "code",
      "source": [
        "top_side = 10\n",
        "bottom_side = 20\n",
        "height = 5\n",
        "\n",
        "#台形の面積の変数\n",
        "area_of_trapezoid = (top_side + bottom_side) * height / 2\n",
        "\n",
        "print(f\"台形の面積は、{area_of_trapezoid}です。\")\n"
      ],
      "metadata": {
        "colab": {
          "base_uri": "https://localhost:8080/"
        },
        "id": "ztkTfK1z5ysC",
        "outputId": "1b21a538-e7b6-454a-8ccd-b30a70b4b6fb"
      },
      "execution_count": 12,
      "outputs": [
        {
          "output_type": "stream",
          "name": "stdout",
          "text": [
            "台形の面積は、75.0です。\n"
          ]
        }
      ]
    }
  ]
}